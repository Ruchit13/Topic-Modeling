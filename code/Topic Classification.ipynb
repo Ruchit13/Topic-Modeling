{
 "cells": [
  {
   "cell_type": "markdown",
   "metadata": {},
   "source": [
    "Sub Task - 2: Learning a supervised multi-Topic Classifier\n",
    "\n",
    "“Topic classification is a ‘supervised’ machine learning technique, one that needs training before being able to automatically analyze texts.”\n",
    "\n",
    "Based on the Relevant Topic clusters identified in sub task 1, you can automatically annotate the documents with the topic names provided to you.\n",
    "\n",
    "You need to learn a Supervised Classifier(or Ensemble of Classifiers) that can be used to label any document with the set of topics that have been identified\n",
    "\n",
    "PLEASE NOTE that the number of topics that this classifier can predict on directly depends on the number of Relevant Topic Clusters that have been discovered in Subtask-1. So there is no point of manually annotating samples for a topic that hasn’t been identified in subtask-1.\n",
    "\n",
    "By Relevant Topic Clusters, we are referring to those topic clusters that are relevant to any of the Provided Topics\n"
   ]
  },
  {
   "cell_type": "markdown",
   "metadata": {},
   "source": [
    "## Prerequisites"
   ]
  },
  {
   "cell_type": "code",
   "execution_count": 1,
   "metadata": {},
   "outputs": [],
   "source": [
    "# Import the Libraries\n",
    "import pandas as pd\n",
    "import numpy as np\n",
    "from numpy import random\n",
    "import pprint\n",
    "\n",
    "\n",
    "import gensim\n",
    "import nltk\n",
    "from sklearn.model_selection import train_test_split\n",
    "from sklearn.feature_extraction.text import CountVectorizer, TfidfVectorizer\n",
    "from sklearn.metrics import accuracy_score\n",
    "from nltk.corpus import stopwords\n",
    "import re\n",
    "from bs4 import BeautifulSoup\n",
    "\n",
    "import warnings\n",
    "warnings.filterwarnings(\"ignore\",category=DeprecationWarning)\n",
    "\n"
   ]
  },
  {
   "cell_type": "markdown",
   "metadata": {},
   "source": [
    "## Understanding Data"
   ]
  },
  {
   "cell_type": "code",
   "execution_count": 2,
   "metadata": {},
   "outputs": [
    {
     "data": {
      "text/html": [
       "<div>\n",
       "<style scoped>\n",
       "    .dataframe tbody tr th:only-of-type {\n",
       "        vertical-align: middle;\n",
       "    }\n",
       "\n",
       "    .dataframe tbody tr th {\n",
       "        vertical-align: top;\n",
       "    }\n",
       "\n",
       "    .dataframe thead th {\n",
       "        text-align: right;\n",
       "    }\n",
       "</style>\n",
       "<table border=\"1\" class=\"dataframe\">\n",
       "  <thead>\n",
       "    <tr style=\"text-align: right;\">\n",
       "      <th></th>\n",
       "      <th>Unnamed: 0</th>\n",
       "      <th>Dominant_Topic</th>\n",
       "      <th>Topic_Keywords</th>\n",
       "      <th>Num_Documents</th>\n",
       "      <th>Perc_Documents</th>\n",
       "      <th>Text</th>\n",
       "    </tr>\n",
       "  </thead>\n",
       "  <tbody>\n",
       "    <tr>\n",
       "      <td>0</td>\n",
       "      <td>0.0</td>\n",
       "      <td>9.0</td>\n",
       "      <td>garage, local, tyre, fit, deliver, select, fit...</td>\n",
       "      <td>695.0</td>\n",
       "      <td>0.0686</td>\n",
       "      <td>\"Tires where delivered to the garage of my cho...</td>\n",
       "    </tr>\n",
       "    <tr>\n",
       "      <td>1</td>\n",
       "      <td>1.0</td>\n",
       "      <td>16.0</td>\n",
       "      <td>excellent, service, recommend, money, highly, ...</td>\n",
       "      <td>614.0</td>\n",
       "      <td>0.0606</td>\n",
       "      <td>Very easy to use and good value for money.</td>\n",
       "    </tr>\n",
       "    <tr>\n",
       "      <td>2</td>\n",
       "      <td>2.0</td>\n",
       "      <td>1.0</td>\n",
       "      <td>easy, find, cheap, convenient, quick, local, t...</td>\n",
       "      <td>459.0</td>\n",
       "      <td>0.0453</td>\n",
       "      <td>Really easy and convenient to arrange</td>\n",
       "    </tr>\n",
       "    <tr>\n",
       "      <td>3</td>\n",
       "      <td>3.0</td>\n",
       "      <td>0.0</td>\n",
       "      <td>fitting, centre, delivery, excellent, price, a...</td>\n",
       "      <td>915.0</td>\n",
       "      <td>0.0903</td>\n",
       "      <td>It was so easy to select tyre sizes and arrang...</td>\n",
       "    </tr>\n",
       "    <tr>\n",
       "      <td>4</td>\n",
       "      <td>4.0</td>\n",
       "      <td>9.0</td>\n",
       "      <td>garage, local, tyre, fit, deliver, select, fit...</td>\n",
       "      <td>321.0</td>\n",
       "      <td>0.0317</td>\n",
       "      <td>service was excellent. Only slight downside wa...</td>\n",
       "    </tr>\n",
       "    <tr>\n",
       "      <td>5</td>\n",
       "      <td>5.0</td>\n",
       "      <td>12.0</td>\n",
       "      <td>service, efficient, quick, friendly, helpful, ...</td>\n",
       "      <td>363.0</td>\n",
       "      <td>0.0358</td>\n",
       "      <td>User friendly Website. Competitive Prices. Goo...</td>\n",
       "    </tr>\n",
       "    <tr>\n",
       "      <td>6</td>\n",
       "      <td>6.0</td>\n",
       "      <td>13.0</td>\n",
       "      <td>price, good, competitive, easy, service, reaso...</td>\n",
       "      <td>441.0</td>\n",
       "      <td>0.0435</td>\n",
       "      <td>Excellent prices and service</td>\n",
       "    </tr>\n",
       "    <tr>\n",
       "      <td>7</td>\n",
       "      <td>7.0</td>\n",
       "      <td>3.0</td>\n",
       "      <td>great, service, price, fantastic, brilliant, f...</td>\n",
       "      <td>508.0</td>\n",
       "      <td>0.0501</td>\n",
       "      <td>It was very straightforward and the garage was...</td>\n",
       "    </tr>\n",
       "    <tr>\n",
       "      <td>8</td>\n",
       "      <td>8.0</td>\n",
       "      <td>9.0</td>\n",
       "      <td>garage, local, tyre, fit, deliver, select, fit...</td>\n",
       "      <td>380.0</td>\n",
       "      <td>0.0375</td>\n",
       "      <td>Use of local garage.</td>\n",
       "    </tr>\n",
       "    <tr>\n",
       "      <td>9</td>\n",
       "      <td>9.0</td>\n",
       "      <td>11.0</td>\n",
       "      <td>good, service, price, great, communication, pr...</td>\n",
       "      <td>384.0</td>\n",
       "      <td>0.0379</td>\n",
       "      <td>\"Easy to use, also good price.\"</td>\n",
       "    </tr>\n",
       "  </tbody>\n",
       "</table>\n",
       "</div>"
      ],
      "text/plain": [
       "   Unnamed: 0  Dominant_Topic  \\\n",
       "0         0.0             9.0   \n",
       "1         1.0            16.0   \n",
       "2         2.0             1.0   \n",
       "3         3.0             0.0   \n",
       "4         4.0             9.0   \n",
       "5         5.0            12.0   \n",
       "6         6.0            13.0   \n",
       "7         7.0             3.0   \n",
       "8         8.0             9.0   \n",
       "9         9.0            11.0   \n",
       "\n",
       "                                      Topic_Keywords  Num_Documents  \\\n",
       "0  garage, local, tyre, fit, deliver, select, fit...          695.0   \n",
       "1  excellent, service, recommend, money, highly, ...          614.0   \n",
       "2  easy, find, cheap, convenient, quick, local, t...          459.0   \n",
       "3  fitting, centre, delivery, excellent, price, a...          915.0   \n",
       "4  garage, local, tyre, fit, deliver, select, fit...          321.0   \n",
       "5  service, efficient, quick, friendly, helpful, ...          363.0   \n",
       "6  price, good, competitive, easy, service, reaso...          441.0   \n",
       "7  great, service, price, fantastic, brilliant, f...          508.0   \n",
       "8  garage, local, tyre, fit, deliver, select, fit...          380.0   \n",
       "9  good, service, price, great, communication, pr...          384.0   \n",
       "\n",
       "   Perc_Documents                                               Text  \n",
       "0          0.0686  \"Tires where delivered to the garage of my cho...  \n",
       "1          0.0606         Very easy to use and good value for money.  \n",
       "2          0.0453              Really easy and convenient to arrange  \n",
       "3          0.0903  It was so easy to select tyre sizes and arrang...  \n",
       "4          0.0317  service was excellent. Only slight downside wa...  \n",
       "5          0.0358  User friendly Website. Competitive Prices. Goo...  \n",
       "6          0.0435                       Excellent prices and service  \n",
       "7          0.0501  It was very straightforward and the garage was...  \n",
       "8          0.0375                               Use of local garage.  \n",
       "9          0.0379                    \"Easy to use, also good price.\"  "
      ]
     },
     "execution_count": 2,
     "metadata": {},
     "output_type": "execute_result"
    }
   ],
   "source": [
    "#Read the data \n",
    "df = pd.read_csv(r'C:\\Users\\Ruchit Singh\\Desktop\\SentiSum NLP exercise\\Labelled Dataset.csv')\n",
    "df.head(10)"
   ]
  },
  {
   "cell_type": "code",
   "execution_count": 3,
   "metadata": {},
   "outputs": [
    {
     "data": {
      "text/plain": [
       "Index(['Unnamed: 0', 'Dominant_Topic', 'Topic_Keywords', 'Num_Documents',\n",
       "       'Perc_Documents', 'Text'],\n",
       "      dtype='object')"
      ]
     },
     "execution_count": 3,
     "metadata": {},
     "output_type": "execute_result"
    }
   ],
   "source": [
    "# List of columns \n",
    "df.columns"
   ]
  },
  {
   "cell_type": "code",
   "execution_count": 4,
   "metadata": {},
   "outputs": [
    {
     "data": {
      "text/html": [
       "<div>\n",
       "<style scoped>\n",
       "    .dataframe tbody tr th:only-of-type {\n",
       "        vertical-align: middle;\n",
       "    }\n",
       "\n",
       "    .dataframe tbody tr th {\n",
       "        vertical-align: top;\n",
       "    }\n",
       "\n",
       "    .dataframe thead th {\n",
       "        text-align: right;\n",
       "    }\n",
       "</style>\n",
       "<table border=\"1\" class=\"dataframe\">\n",
       "  <thead>\n",
       "    <tr style=\"text-align: right;\">\n",
       "      <th></th>\n",
       "      <th>Topic_Keywords</th>\n",
       "      <th>Text</th>\n",
       "    </tr>\n",
       "  </thead>\n",
       "  <tbody>\n",
       "    <tr>\n",
       "      <td>0</td>\n",
       "      <td>garage, local, tyre, fit, deliver, select, fit...</td>\n",
       "      <td>\"Tires where delivered to the garage of my cho...</td>\n",
       "    </tr>\n",
       "    <tr>\n",
       "      <td>1</td>\n",
       "      <td>excellent, service, recommend, money, highly, ...</td>\n",
       "      <td>Very easy to use and good value for money.</td>\n",
       "    </tr>\n",
       "    <tr>\n",
       "      <td>2</td>\n",
       "      <td>easy, find, cheap, convenient, quick, local, t...</td>\n",
       "      <td>Really easy and convenient to arrange</td>\n",
       "    </tr>\n",
       "    <tr>\n",
       "      <td>3</td>\n",
       "      <td>fitting, centre, delivery, excellent, price, a...</td>\n",
       "      <td>It was so easy to select tyre sizes and arrang...</td>\n",
       "    </tr>\n",
       "    <tr>\n",
       "      <td>4</td>\n",
       "      <td>garage, local, tyre, fit, deliver, select, fit...</td>\n",
       "      <td>service was excellent. Only slight downside wa...</td>\n",
       "    </tr>\n",
       "  </tbody>\n",
       "</table>\n",
       "</div>"
      ],
      "text/plain": [
       "                                      Topic_Keywords  \\\n",
       "0  garage, local, tyre, fit, deliver, select, fit...   \n",
       "1  excellent, service, recommend, money, highly, ...   \n",
       "2  easy, find, cheap, convenient, quick, local, t...   \n",
       "3  fitting, centre, delivery, excellent, price, a...   \n",
       "4  garage, local, tyre, fit, deliver, select, fit...   \n",
       "\n",
       "                                                Text  \n",
       "0  \"Tires where delivered to the garage of my cho...  \n",
       "1         Very easy to use and good value for money.  \n",
       "2              Really easy and convenient to arrange  \n",
       "3  It was so easy to select tyre sizes and arrang...  \n",
       "4  service was excellent. Only slight downside wa...  "
      ]
     },
     "execution_count": 4,
     "metadata": {},
     "output_type": "execute_result"
    }
   ],
   "source": [
    "#Drop the unnecessary Columns\n",
    "df = df.drop(['Unnamed: 0','Dominant_Topic','Num_Documents','Perc_Documents'],axis=1)\n",
    "df.head()"
   ]
  },
  {
   "cell_type": "markdown",
   "metadata": {},
   "source": [
    "## Data Cleaning and Preprocessing "
   ]
  },
  {
   "cell_type": "code",
   "execution_count": 5,
   "metadata": {},
   "outputs": [
    {
     "name": "stdout",
     "output_type": "stream",
     "text": [
      "227520\n",
      "101310\n"
     ]
    }
   ],
   "source": [
    "print(df['Text'].apply(lambda x: len(x.split(' '))).sum())\n",
    "print(df['Topic_Keywords'].apply(lambda x: len(x.split(' '))).sum())"
   ]
  },
  {
   "cell_type": "code",
   "execution_count": 6,
   "metadata": {},
   "outputs": [
    {
     "name": "stdout",
     "output_type": "stream",
     "text": [
      "Outstanding values for money and a friendly professional service\n",
      "Tag: excellent, service, recommend, money, highly, save, friend, family, brilliant, satisfied\n"
     ]
    }
   ],
   "source": [
    "#Print the tags of the text\n",
    "def print_plot(index):\n",
    "    example = df[df.index == index][['Text','Topic_Keywords',]].values[0]\n",
    "    if len(example) > 0:\n",
    "        print(example[0])\n",
    "        print('Tag:', example[1])\n",
    "print_plot(10)"
   ]
  },
  {
   "cell_type": "code",
   "execution_count": 7,
   "metadata": {},
   "outputs": [
    {
     "name": "stderr",
     "output_type": "stream",
     "text": [
      "C:\\Users\\Ruchit Singh\\Anaconda3\\lib\\site-packages\\bs4\\__init__.py:294: UserWarning: \"b'..'\" looks like a filename, not markup. You should probably open this file and pass the filehandle into Beautiful Soup.\n",
      "  ' Beautiful Soup.' % markup)\n",
      "C:\\Users\\Ruchit Singh\\Anaconda3\\lib\\site-packages\\bs4\\__init__.py:294: UserWarning: \"b'.'\" looks like a filename, not markup. You should probably open this file and pass the filehandle into Beautiful Soup.\n",
      "  ' Beautiful Soup.' % markup)\n",
      "C:\\Users\\Ruchit Singh\\Anaconda3\\lib\\site-packages\\bs4\\__init__.py:294: UserWarning: \"b'..................................'\" looks like a filename, not markup. You should probably open this file and pass the filehandle into Beautiful Soup.\n",
      "  ' Beautiful Soup.' % markup)\n"
     ]
    },
    {
     "name": "stdout",
     "output_type": "stream",
     "text": [
      "outstanding values money friendly professional service\n",
      "Tag: excellent, service, recommend, money, highly, save, friend, family, brilliant, satisfied\n"
     ]
    }
   ],
   "source": [
    "REPLACE_BY_SPACE_RE = re.compile('[/(){}\\[\\]\\|@,;]')\n",
    "BAD_SYMBOLS_RE = re.compile('[^0-9a-z #+_]')\n",
    "STOPWORDS = set(stopwords.words('english'))\n",
    "\n",
    "def clean_text(text):\n",
    "    \"\"\"\n",
    "        text: a string\n",
    "        \n",
    "        return: modified initial string\n",
    "    \"\"\"\n",
    "    text = BeautifulSoup(text, \"lxml\").text # HTML decoding\n",
    "    text = text.lower() # lowercase text\n",
    "    text = REPLACE_BY_SPACE_RE.sub(' ', text) # replace REPLACE_BY_SPACE_RE symbols by space in text\n",
    "    text = BAD_SYMBOLS_RE.sub('', text) # delete symbols which are in BAD_SYMBOLS_RE from text\n",
    "    text = ' '.join(word for word in text.split() if word not in STOPWORDS) # delete stopwors from text\n",
    "    return text\n",
    "    \n",
    "df['Text'] = df['Text'].apply(clean_text)\n",
    "print_plot(10)"
   ]
  },
  {
   "cell_type": "code",
   "execution_count": 8,
   "metadata": {},
   "outputs": [
    {
     "data": {
      "text/plain": [
       "129192"
      ]
     },
     "execution_count": 8,
     "metadata": {},
     "output_type": "execute_result"
    }
   ],
   "source": [
    "df['Text'].apply(lambda x: len(x.split(' '))).sum()"
   ]
  },
  {
   "cell_type": "markdown",
   "metadata": {},
   "source": [
    "## Splitting the Dataset into Train and Test Set"
   ]
  },
  {
   "cell_type": "code",
   "execution_count": 9,
   "metadata": {},
   "outputs": [],
   "source": [
    "X = df.Text\n",
    "y = df.Topic_Keywords\n",
    "X_train, X_test, y_train, y_test = train_test_split(X, y, test_size=0.2, random_state = 42)"
   ]
  },
  {
   "cell_type": "code",
   "execution_count": 10,
   "metadata": {
    "scrolled": true
   },
   "outputs": [],
   "source": [
    "#My_tags is the list of labelled task provided in the md file\n",
    "my_tags=['value for money','garage service','ease of booking','tyre quality','mobile fitter','location',\n",
    "         'length of fitting','delivery punctuality','booking confusion','wait time','discounts','change of date']"
   ]
  },
  {
   "cell_type": "markdown",
   "metadata": {},
   "source": [
    "## Classifying Text Data"
   ]
  },
  {
   "cell_type": "markdown",
   "metadata": {},
   "source": [
    "### Naive Bayes Algorithm"
   ]
  },
  {
   "cell_type": "code",
   "execution_count": 11,
   "metadata": {},
   "outputs": [
    {
     "name": "stdout",
     "output_type": "stream",
     "text": [
      "accuracy 0.44203256043413913\n"
     ]
    }
   ],
   "source": [
    "from sklearn.naive_bayes import MultinomialNB\n",
    "from sklearn.pipeline import Pipeline\n",
    "from sklearn.feature_extraction.text import TfidfTransformer\n",
    "\n",
    "nb = Pipeline([('vect', CountVectorizer()),\n",
    "               ('tfidf', TfidfTransformer()),\n",
    "               ('clf', MultinomialNB()),\n",
    "              ])\n",
    "nb.fit(X_train, y_train)\n",
    "\n",
    "from sklearn.metrics import *\n",
    "y_pred = nb.predict(X_test)\n",
    "\n",
    "print('accuracy %s' % accuracy_score(y_pred, y_test))\n"
   ]
  },
  {
   "cell_type": "markdown",
   "metadata": {},
   "source": [
    "### Stochastic Gradient Descent Classifier  "
   ]
  },
  {
   "cell_type": "code",
   "execution_count": 12,
   "metadata": {
    "scrolled": true
   },
   "outputs": [
    {
     "name": "stdout",
     "output_type": "stream",
     "text": [
      "accuracy 0.5880611741489886\n"
     ]
    }
   ],
   "source": [
    "from sklearn.linear_model import SGDClassifier\n",
    "\n",
    "sgd = Pipeline([('vect', CountVectorizer()),\n",
    "                ('tfidf', TfidfTransformer()),\n",
    "                ('clf', SGDClassifier(loss='hinge', penalty='l2',alpha=1e-3, random_state=42, max_iter=5, tol=None)),\n",
    "               ])\n",
    "sgd.fit(X_train, y_train)\n",
    "\n",
    "\n",
    "\n",
    "y_pred = sgd.predict(X_test)\n",
    "\n",
    "print('accuracy %s' % accuracy_score(y_pred, y_test))"
   ]
  },
  {
   "cell_type": "markdown",
   "metadata": {},
   "source": [
    "### Logistic Regression "
   ]
  },
  {
   "cell_type": "code",
   "execution_count": 13,
   "metadata": {
    "scrolled": true
   },
   "outputs": [
    {
     "name": "stderr",
     "output_type": "stream",
     "text": [
      "C:\\Users\\Ruchit Singh\\Anaconda3\\lib\\site-packages\\sklearn\\linear_model\\logistic.py:432: FutureWarning: Default solver will be changed to 'lbfgs' in 0.22. Specify a solver to silence this warning.\n",
      "  FutureWarning)\n",
      "C:\\Users\\Ruchit Singh\\Anaconda3\\lib\\site-packages\\sklearn\\linear_model\\logistic.py:469: FutureWarning: Default multi_class will be changed to 'auto' in 0.22. Specify the multi_class option to silence this warning.\n",
      "  \"this warning.\", FutureWarning)\n"
     ]
    },
    {
     "name": "stdout",
     "output_type": "stream",
     "text": [
      "accuracy 0.49235323137641834\n"
     ]
    }
   ],
   "source": [
    "from sklearn.linear_model import LogisticRegression\n",
    "\n",
    "logreg = Pipeline([('vect', CountVectorizer()),\n",
    "                ('tfidf', TfidfTransformer()),\n",
    "                ('clf', LogisticRegression(n_jobs=1, C=1e5)),\n",
    "               ])\n",
    "logreg.fit(X_train, y_train)\n",
    "\n",
    "y_pred = logreg.predict(X_test)\n",
    "\n",
    "print('accuracy %s' % accuracy_score(y_pred, y_test))"
   ]
  },
  {
   "cell_type": "markdown",
   "metadata": {},
   "source": [
    "### XGB Classifier"
   ]
  },
  {
   "cell_type": "code",
   "execution_count": 14,
   "metadata": {
    "scrolled": true
   },
   "outputs": [
    {
     "name": "stderr",
     "output_type": "stream",
     "text": [
      "C:\\Users\\Ruchit Singh\\Anaconda3\\lib\\site-packages\\xgboost\\sklearn.py:888: UserWarning: The use of label encoder in XGBClassifier is deprecated and will be removed in a future release. To remove this warning, do the following: 1) Pass option use_label_encoder=False when constructing XGBClassifier object; and 2) Encode your labels (y) as integers starting with 0, i.e. 0, 1, 2, ..., [num_class - 1].\n",
      "  warnings.warn(label_encoder_deprecation_msg, UserWarning)\n"
     ]
    },
    {
     "name": "stdout",
     "output_type": "stream",
     "text": [
      "[14:19:07] WARNING: ..\\src\\learner.cc:1061: Starting in XGBoost 1.3.0, the default evaluation metric used with the objective 'multi:softprob' was changed from 'merror' to 'mlogloss'. Explicitly set eval_metric if you'd like to restore the old behavior.\n",
      "accuracy 0.5648741983226443\n"
     ]
    }
   ],
   "source": [
    "from xgboost import XGBClassifier\n",
    "xgb = Pipeline([('vect', CountVectorizer()),\n",
    "                ('tfidf', TfidfTransformer()),\n",
    "                ('clf', XGBClassifier()),\n",
    "               ])\n",
    "\n",
    "xgb.fit(X_train, y_train)\n",
    "\n",
    "y_pred = xgb.predict(X_test)\n",
    "\n",
    "print('accuracy %s' % accuracy_score(y_pred, y_test))"
   ]
  },
  {
   "cell_type": "markdown",
   "metadata": {},
   "source": [
    "SGD Model performs the best on our data compared to other models henceforth, we'll use sgd to predict on our sample input"
   ]
  },
  {
   "cell_type": "markdown",
   "metadata": {},
   "source": [
    "## Testing on our sample input"
   ]
  },
  {
   "cell_type": "code",
   "execution_count": 15,
   "metadata": {},
   "outputs": [],
   "source": [
    "test_data = 'A perfectly easy way to order tyres online. Just enter your car registration number, check the recommended tyres are correct and select the tyres you want. Select the best time and venue for the fitting and pay online. The whole process is easy and the best value for money!'\n",
    "predict = sgd.predict([test_data])"
   ]
  },
  {
   "cell_type": "code",
   "execution_count": 16,
   "metadata": {},
   "outputs": [],
   "source": [
    "#Function to extract the Topic tage=s\n",
    "def final(data):\n",
    "    data = data.split(',')\n",
    "    data = [x.strip(' ') for x in data]\n",
    "    for n,i in enumerate(data):\n",
    "        if i == 'garage' or i=='quick' or i=='efficient':\n",
    "            data[n]='garage service'\n",
    "            \n",
    "        if i == 'service' or i == 'money' or i == 'expensive' or i == 'rate' or i == 'cost' or i == 'value':\n",
    "            data[n] = 'value for money'\n",
    "            \n",
    "        if i == 'service' or i == 'appointment' or i=='scheduling' or i=='booking':\n",
    "            data[n] = 'ease of booking' \n",
    "            \n",
    "        if i == 'tyre' or i == 'tyres':\n",
    "            data[n] = 'tyre quality'\n",
    "            \n",
    "        if i == 'mechanics' or i =='fitting' or i == 'mobile' or i == 'fitted':\n",
    "            data[n] = 'mobile fitter'\n",
    "            \n",
    "        if i == 'close' or i=='nearby' or i=='far':\n",
    "            data[n] = 'location'\n",
    "            \n",
    "        if i == 'duration' or i=='time':\n",
    "            data[n] = 'length of fitting'\n",
    "            \n",
    "        if i == 'time' or i == 'punctuality' or i=='quick':\n",
    "            data[n] = 'delivery punctuality'\n",
    "            \n",
    "        if i == 'booking' or i == 'confusion' or 'problem scheduling':\n",
    "            data[n] == 'booking confusion'\n",
    "            \n",
    "        if i == 'long' or i == 'wait':\n",
    "            data[n] = 'wait time'\n",
    "            \n",
    "        if i == 'discount' or i == 'reduce' or i=='reduced':\n",
    "            data[n] = 'discounts'\n",
    "            \n",
    "        if i == 'date' or i=='different date':\n",
    "            data[n] = 'change of date'\n",
    "     \n",
    "    for i in data:\n",
    "        if i not in my_tags:\n",
    "            data.remove(i)\n",
    "    \n",
    "    return data\n",
    "    "
   ]
  },
  {
   "cell_type": "code",
   "execution_count": 17,
   "metadata": {},
   "outputs": [
    {
     "data": {
      "text/plain": [
       "['process', 'choose', 'happy', 'mobile fitter', 'purchase']"
      ]
     },
     "execution_count": 17,
     "metadata": {},
     "output_type": "execute_result"
    }
   ],
   "source": [
    "#Output of the sample input\n",
    "final(str(predict))"
   ]
  },
  {
   "cell_type": "markdown",
   "metadata": {},
   "source": [
    "### Saving the model"
   ]
  },
  {
   "cell_type": "code",
   "execution_count": 18,
   "metadata": {},
   "outputs": [],
   "source": [
    "import pickle\n",
    "# save the model to disk\n",
    "filename = 'finalized_model.sav'\n",
    "pickle.dump(sgd, open(filename, 'wb'))\n"
   ]
  }
 ],
 "metadata": {
  "kernelspec": {
   "display_name": "Python 3",
   "language": "python",
   "name": "python3"
  },
  "language_info": {
   "codemirror_mode": {
    "name": "ipython",
    "version": 3
   },
   "file_extension": ".py",
   "mimetype": "text/x-python",
   "name": "python",
   "nbconvert_exporter": "python",
   "pygments_lexer": "ipython3",
   "version": "3.7.4"
  }
 },
 "nbformat": 4,
 "nbformat_minor": 2
}
